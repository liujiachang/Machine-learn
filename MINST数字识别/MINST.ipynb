{
 "cells": [
  {
   "cell_type": "code",
   "execution_count": null,
   "metadata": {},
   "outputs": [],
   "source": [
    "import pandas as pd\n",
    "import matplotlib.pyplot as plt, matplotlib.image as mpimg\n",
    "from sklearn.model_selection import train_test_split\n",
    "from sklearn import svm\n",
    "%matplotlib inline\n",
    "\n",
    "\n",
    "labels_images = pd.read_csv(\"train.csv\")\n",
    "images = labels_images.iloc[0:,1:]\n",
    "labels = labels_images.iloc[0:,:1]\n",
    "x_train,x_test,y_train,y_test = train_test_split(images,labels,test_size=0.2)\n",
    "'''\n",
    "img = x_train.iloc[0].as_matrix()\n",
    "img = img.reshape((28,28))\n",
    "plt.imshow(img,cmap='gray')\n",
    "plt.title(y_train.iloc[0,0])\n",
    "    \n",
    "plt.hist(x_train.iloc[0])\n",
    "'''\n",
    "clf = svm.SVC()\n",
    "clf.fit(x_train,y_train.values.ravel())\n",
    "print(clf.score(x_test,y_test))"
   ]
  },
  {
   "cell_type": "code",
   "execution_count": null,
   "metadata": {},
   "outputs": [],
   "source": [
    "import random\n",
    "from random import choice\n",
    "a=[1,2,3]\n",
    "b=[1,2,3]\n",
    "random.seed(100000000)\n",
    "batch_x=random.sample(a,2)\n",
    "random.seed(100000000)\n",
    "batch_y=random.sample(b,2)\n",
    "print(batch_x)\n",
    "print(batch_y)"
   ]
  },
  {
   "cell_type": "code",
   "execution_count": null,
   "metadata": {},
   "outputs": [],
   "source": []
  }
 ],
 "metadata": {
  "kernelspec": {
   "display_name": "Python 3",
   "language": "python",
   "name": "python3"
  },
  "language_info": {
   "codemirror_mode": {
    "name": "ipython",
    "version": 3
   },
   "file_extension": ".py",
   "mimetype": "text/x-python",
   "name": "python",
   "nbconvert_exporter": "python",
   "pygments_lexer": "ipython3",
   "version": "3.6.5"
  }
 },
 "nbformat": 4,
 "nbformat_minor": 2
}
